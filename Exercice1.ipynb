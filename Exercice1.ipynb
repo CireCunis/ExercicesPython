{
 "cells": [
  {
   "cell_type": "markdown",
   "id": "bd3ab996-2c33-4014-b7e0-af82771f0862",
   "metadata": {},
   "source": [
    "# Premier exercice (tiré de codewars.com)"
   ]
  },
  {
   "cell_type": "code",
   "execution_count": 4,
   "id": "5ee0ba04-1447-4367-90d7-b868e0233c4b",
   "metadata": {},
   "outputs": [],
   "source": [
    "def dont_give_me_five(debut, fin):\n",
    " compteur = 0\n",
    " for v in range(debut, fin+1):\n",
    "  if '5' not in str(v):\n",
    "   compteur += 1\n",
    " return compteur"
   ]
  },
  {
   "cell_type": "code",
   "execution_count": 5,
   "id": "c2463e87-59fb-4744-82fd-77a9cb39a59a",
   "metadata": {},
   "outputs": [
    {
     "data": {
      "text/plain": [
       "12"
      ]
     },
     "execution_count": 5,
     "metadata": {},
     "output_type": "execute_result"
    }
   ],
   "source": [
    "dont_give_me_five(4,17)"
   ]
  },
  {
   "cell_type": "code",
   "execution_count": null,
   "id": "1b1fa15f-f248-4ff7-bb13-c79f99bffa99",
   "metadata": {},
   "outputs": [],
   "source": []
  }
 ],
 "metadata": {
  "kernelspec": {
   "display_name": "Python 3 (ipykernel)",
   "language": "python",
   "name": "python3"
  },
  "language_info": {
   "codemirror_mode": {
    "name": "ipython",
    "version": 3
   },
   "file_extension": ".py",
   "mimetype": "text/x-python",
   "name": "python",
   "nbconvert_exporter": "python",
   "pygments_lexer": "ipython3",
   "version": "3.9.6"
  }
 },
 "nbformat": 4,
 "nbformat_minor": 5
}
