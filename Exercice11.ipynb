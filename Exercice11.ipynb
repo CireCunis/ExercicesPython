{
 "cells": [
  {
   "cell_type": "markdown",
   "id": "f944bf38",
   "metadata": {},
   "source": [
    "# Onzième exercice en Python (Niveau Lycée)"
   ]
  },
  {
   "cell_type": "markdown",
   "id": "007966ee",
   "metadata": {},
   "source": [
    "<img src=\"https://blog.univ-angers.fr/mathsinfo/files/2022/06/image-11.png\">"
   ]
  },
  {
   "cell_type": "markdown",
   "id": "330566df",
   "metadata": {},
   "source": [
    "*Résumé en français* : On vous donne une **matrice carrée** et un **nombre** `n`, vous devez renvoyer cette matrice dont les tous les termes ont été tournés (`n` rotations) dans le sens **anti-horaire**. Exemple avec une matrice 3 x 3 :\n",
    "\n",
    "<pre>      Matrice initiale\n",
    "1 2 3\n",
    "4 5 6\n",
    "7 8 9\n",
    "      n = 1 rotation anti-horaire\n",
    "3 6 9\n",
    "2 5 8\n",
    "1 4 7\n",
    "      n = 2 rotations anti-horaire\n",
    "9 8 7\n",
    "6 5 4\n",
    "3 2 1\n",
    "      n = 3 rotations anti-horaire\n",
    "7 4 1\n",
    "8 5 2\n",
    "9 6 3</pre>"
   ]
  },
  {
   "cell_type": "markdown",
   "id": "c70677b4",
   "metadata": {},
   "source": [
    "## Facile avec une bibliothèque"
   ]
  },
  {
   "cell_type": "markdown",
   "id": "d10df572",
   "metadata": {},
   "source": [
    "La méthode `rot90` de la bibliothèque Python `numpy` permet d'effectuer des rotations de tableaux :"
   ]
  },
  {
   "cell_type": "code",
   "execution_count": 1,
   "id": "5238cf8c",
   "metadata": {},
   "outputs": [
    {
     "data": {
      "text/plain": [
       "array([[2, 4],\n",
       "       [1, 3]])"
      ]
     },
     "execution_count": 1,
     "metadata": {},
     "output_type": "execute_result"
    }
   ],
   "source": [
    "import numpy as np\n",
    "np.rot90([[1, 2], [3, 4]], 1)         # 1 rotation anti-horaire"
   ]
  },
  {
   "cell_type": "code",
   "execution_count": 2,
   "id": "aa940c9f",
   "metadata": {},
   "outputs": [
    {
     "data": {
      "text/plain": [
       "array([[6, 5, 4],\n",
       "       [3, 2, 1]])"
      ]
     },
     "execution_count": 2,
     "metadata": {},
     "output_type": "execute_result"
    }
   ],
   "source": [
    "np.rot90([[1, 2, 3], [4, 5, 6]], 2)   # 2 rotations, matrice 2 x 3"
   ]
  },
  {
   "cell_type": "markdown",
   "id": "1aeb5b23",
   "metadata": {},
   "source": [
    "Remarquons que 2 rotations n<sub>1</sub> et n<sub>2</sub> sont **équivalentes** si la différence n<sub>1</sub> - n<sub>2</sub> est un **multiple** de 4. Par exemple, effectuer 1 rotation anti-horaire est équivalent à faire 5 rotations anti-horaires.\n",
    "\n",
    "De façon plus générale, `n` rotations anti-horaires sont équivalentes à `n % 4` rotations anti-horaires. D'où cette version finale :"
   ]
  },
  {
   "cell_type": "code",
   "execution_count": 3,
   "id": "a32d415b",
   "metadata": {},
   "outputs": [],
   "source": [
    "import numpy as np\n",
    "\n",
    "def rotation(matrice, n):\n",
    "    return np.rot90(matrice, n % 4).tolist()"
   ]
  },
  {
   "cell_type": "code",
   "execution_count": 4,
   "id": "07337767",
   "metadata": {},
   "outputs": [
    {
     "data": {
      "text/plain": [
       "[[5, 4], [2, 1]]"
      ]
     },
     "execution_count": 4,
     "metadata": {},
     "output_type": "execute_result"
    }
   ],
   "source": [
    "rotation([[1, 2], [4, 5]], 2)"
   ]
  },
  {
   "cell_type": "markdown",
   "id": "18eea109",
   "metadata": {},
   "source": [
    "## Version sans bibliothèque"
   ]
  },
  {
   "cell_type": "markdown",
   "id": "679b5e08",
   "metadata": {},
   "source": [
    "Faire une rotation anti-horaire, c'est faire une **transposée** (remplacer la 1ere ligne par la 1ere colonne, la 2e ligne par la 2e colonne etc.) **puis inverser** l'ordre des lignes :\n",
    "\n",
    "<img src=\"https://blog.univ-angers.fr/mathsinfo/files/2022/06/image-14.png\">"
   ]
  },
  {
   "cell_type": "markdown",
   "id": "410c03ba",
   "metadata": {},
   "source": [
    "Voici comment inverser les lignes en Python :"
   ]
  },
  {
   "cell_type": "code",
   "execution_count": 5,
   "id": "b7810e5e",
   "metadata": {},
   "outputs": [
    {
     "data": {
      "text/plain": [
       "[[7, 8, 9], [4, 5, 6], [1, 2, 3]]"
      ]
     },
     "execution_count": 5,
     "metadata": {},
     "output_type": "execute_result"
    }
   ],
   "source": [
    "[[1, 2, 3], [4, 5, 6], [7, 8, 9]] [::-1]"
   ]
  },
  {
   "cell_type": "markdown",
   "id": "f059c6c8",
   "metadata": {},
   "source": [
    "Ce qui donne ce programme final :"
   ]
  },
  {
   "cell_type": "code",
   "execution_count": 6,
   "id": "c3e81182",
   "metadata": {},
   "outputs": [],
   "source": [
    "def rotation(matrice, n):\n",
    "  for _ in range(n % 4):\n",
    "    matrice = [[r[i] for r in matrice] for i in range(len(matrice))][::-1]\n",
    "  return matrice"
   ]
  },
  {
   "cell_type": "code",
   "execution_count": 7,
   "id": "0bc5273f",
   "metadata": {},
   "outputs": [
    {
     "data": {
      "text/plain": [
       "[[9, 8, 7], [6, 5, 4], [3, 2, 1]]"
      ]
     },
     "execution_count": 7,
     "metadata": {},
     "output_type": "execute_result"
    }
   ],
   "source": [
    "rotation([[1,2,3], [4,5,6], [7,8,9]], 2)"
   ]
  },
  {
   "cell_type": "markdown",
   "id": "3ae4221e",
   "metadata": {},
   "source": [
    "Ou cette autre **version avancée** qui utilise la notion de **dépaquetage** avec `zip` et `*` :"
   ]
  },
  {
   "cell_type": "code",
   "execution_count": 8,
   "id": "63047dd1",
   "metadata": {},
   "outputs": [],
   "source": [
    "def rotation(matrice, n):\n",
    "  for _ in range(n % 4):\n",
    "    matrice = [list(col) for col in list(zip(*matrice))][::-1]\n",
    "  return matrice"
   ]
  },
  {
   "cell_type": "markdown",
   "id": "a8ed13c6",
   "metadata": {},
   "source": [
    "Quelques exemples pour mieux comprendre zip et * :"
   ]
  },
  {
   "cell_type": "code",
   "execution_count": 9,
   "id": "e56d7ed5",
   "metadata": {},
   "outputs": [
    {
     "data": {
      "text/plain": [
       "[[1, 2], [3, 4]]"
      ]
     },
     "execution_count": 9,
     "metadata": {},
     "output_type": "execute_result"
    }
   ],
   "source": [
    "[* [[1, 2], [3, 4]]]           # Exemple n°1 de dépaquetage"
   ]
  },
  {
   "cell_type": "code",
   "execution_count": 10,
   "id": "0ed740ed",
   "metadata": {},
   "outputs": [
    {
     "data": {
      "text/plain": [
       "[1, 2, 3]"
      ]
     },
     "execution_count": 10,
     "metadata": {},
     "output_type": "execute_result"
    }
   ],
   "source": [
    "[* {1, 2, 3}]                  # Exemple n°2 de dépaquetage"
   ]
  },
  {
   "cell_type": "code",
   "execution_count": 11,
   "id": "b6f33915",
   "metadata": {},
   "outputs": [
    {
     "data": {
      "text/plain": [
       "['a', 'b', 'c', 'd']"
      ]
     },
     "execution_count": 11,
     "metadata": {},
     "output_type": "execute_result"
    }
   ],
   "source": [
    "[* 'abcd']                     # Exemple n°3 de dépaquetage"
   ]
  },
  {
   "cell_type": "code",
   "execution_count": 12,
   "id": "414350ae",
   "metadata": {},
   "outputs": [
    {
     "data": {
      "text/plain": [
       "[(1, 3), (2, 4)]"
      ]
     },
     "execution_count": 12,
     "metadata": {},
     "output_type": "execute_result"
    }
   ],
   "source": [
    "list(zip([1,2], [3,4]))"
   ]
  },
  {
   "cell_type": "code",
   "execution_count": 13,
   "id": "bb3055f0",
   "metadata": {},
   "outputs": [
    {
     "data": {
      "text/plain": [
       "[([1, 2],), ([3, 4],)]"
      ]
     },
     "execution_count": 13,
     "metadata": {},
     "output_type": "execute_result"
    }
   ],
   "source": [
    "list(zip([[1, 2], [3, 4]]))    # ne fonctionne pas"
   ]
  },
  {
   "cell_type": "code",
   "execution_count": 14,
   "id": "709528c4",
   "metadata": {},
   "outputs": [
    {
     "data": {
      "text/plain": [
       "[(1, 3), (2, 4)]"
      ]
     },
     "execution_count": 14,
     "metadata": {},
     "output_type": "execute_result"
    }
   ],
   "source": [
    "list(zip(* [[1, 2], [3, 4]]))  # Il faut déjà dépaqueter"
   ]
  }
 ],
 "metadata": {
  "kernelspec": {
   "display_name": "Python 3 (ipykernel)",
   "language": "python",
   "name": "python3"
  },
  "language_info": {
   "codemirror_mode": {
    "name": "ipython",
    "version": 3
   },
   "file_extension": ".py",
   "mimetype": "text/x-python",
   "name": "python",
   "nbconvert_exporter": "python",
   "pygments_lexer": "ipython3",
   "version": "3.9.6"
  }
 },
 "nbformat": 4,
 "nbformat_minor": 5
}
