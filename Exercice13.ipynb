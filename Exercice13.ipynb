{
 "cells": [
  {
   "cell_type": "markdown",
   "id": "da0a2216",
   "metadata": {},
   "source": [
    "# Treizième exercice en Python (Niveau Lycée)"
   ]
  },
  {
   "cell_type": "markdown",
   "id": "afcf5553",
   "metadata": {},
   "source": [
    "<img src=\"https://blog.univ-angers.fr/mathsinfo/files/2022/06/image-17.png\">"
   ]
  },
  {
   "cell_type": "markdown",
   "id": "ba155b90",
   "metadata": {},
   "source": [
    "*Résumé en français* : Une pizzeria **récompense** ses meilleurs clients en offrant une **pizza gratuite** s'ils ont fait **au moins 5 achats** d'un **montant au moins égal à 20 EUR**. Cependant, ce **système** est susceptible d'être **modifié** dans le futur. On vous demande de créer une **fonction** qui à partir du **nombre d'achats minimum**, du **montant minimum** et d'un **dictionnaire** contenant les **données** sur vos **clients**, va renvoyer la liste de ceux qui auront une pizza gratuite.\n",
    "\n",
    "<pre># Système 1 : Pour avoir une pizza gratuite, il faut avoir au moins 5 achats d'un montant minimum de 20 EUR.\n",
    "\n",
    "min_achats = 5\n",
    "min_prix = 20\n",
    "conso = {\n",
    "'John Doe' : [22, 30, 11, 17, 15, 52, 27, 12],  # Montants des achats\n",
    "'Jane Doe' : [5, 17, 30, 33, 40, 22, 26, 10, 11, 45]\n",
    "}\n",
    "\n",
    ">> free(conso, min_achats, min_prix)\n",
    "['Jane Doe']     # Elle seule aura une pizza gratuite\n",
    "\n",
    "# Système 2 : Pour avoir une pizza gratuite, il faut avoir au moins 2 achats d'un montant minimum de 50 EUR.\n",
    "\n",
    "min_achats = 2\n",
    "min_prix = 50\n",
    "conso = {\n",
    "'Joey Bonzo' : [22, 67, 53, 29],       # Montants des achats\n",
    "'Jennifer Bonzo' : [51, 19]\n",
    "}\n",
    "\n",
    ">> free(conso, min_achats, min_prix)\n",
    "['Joey Bonzo']</pre>"
   ]
  },
  {
   "cell_type": "markdown",
   "id": "5060fdba",
   "metadata": {},
   "source": [
    "## Version classique"
   ]
  },
  {
   "cell_type": "markdown",
   "id": "322bb57d",
   "metadata": {},
   "source": [
    "Pour chaque consommateur, on va compter le nombre d'achats dont le montant est ≥ au montant minimum imposé. Si ce nombre est ≥ au minimum d'achats, la personne aura une pizza gratuite. \n",
    "\n",
    "On peut imaginer une **première boucl**e pour parcourir les **consommateurs**, une **seconde** pour parcourir les **achats** et enfin un **test** pour savoir **si** cette personne doit avoir une **pizza**.\n",
    "\n",
    "Comment :\n",
    "- récupérer les différents consommateurs ?\n",
    "- récupérer leurs achats ?\n",
    "\n",
    "Partons de cet exemple :"
   ]
  },
  {
   "cell_type": "code",
   "execution_count": 1,
   "id": "395a2f25",
   "metadata": {},
   "outputs": [],
   "source": [
    "conso = {\n",
    "'John Doe' : [22, 30, 11, 17, 15, 52, 27, 12],\n",
    "'Jane Doe' : [5, 17, 30, 33, 40, 22, 26, 10, 11, 45]\n",
    "}"
   ]
  },
  {
   "cell_type": "code",
   "execution_count": 2,
   "id": "15243b97",
   "metadata": {},
   "outputs": [
    {
     "data": {
      "text/plain": [
       "dict_keys(['John Doe', 'Jane Doe'])"
      ]
     },
     "execution_count": 2,
     "metadata": {},
     "output_type": "execute_result"
    }
   ],
   "source": [
    "conso.keys() "
   ]
  },
  {
   "cell_type": "code",
   "execution_count": 3,
   "id": "d4a74a12",
   "metadata": {},
   "outputs": [
    {
     "data": {
      "text/plain": [
       "['John Doe', 'Jane Doe']"
      ]
     },
     "execution_count": 3,
     "metadata": {},
     "output_type": "execute_result"
    }
   ],
   "source": [
    "list(conso.keys())"
   ]
  },
  {
   "cell_type": "markdown",
   "id": "82c9d49e",
   "metadata": {},
   "source": [
    "Et pour récupérer les achats d'un consommateur :"
   ]
  },
  {
   "cell_type": "code",
   "execution_count": 4,
   "id": "c5ead1e7",
   "metadata": {},
   "outputs": [
    {
     "data": {
      "text/plain": [
       "[22, 30, 11, 17, 15, 52, 27, 12]"
      ]
     },
     "execution_count": 4,
     "metadata": {},
     "output_type": "execute_result"
    }
   ],
   "source": [
    "conso['John Doe']"
   ]
  },
  {
   "cell_type": "markdown",
   "id": "989964bc",
   "metadata": {},
   "source": [
    "On peut également parcourir à la fois les **clés** et les **valeurs**. Voici un exemple qui calcule le montant total des achats des consommateurs :"
   ]
  },
  {
   "cell_type": "code",
   "execution_count": 5,
   "id": "bc461988",
   "metadata": {},
   "outputs": [
    {
     "name": "stdout",
     "output_type": "stream",
     "text": [
      "Total pour John Doe : 186\n",
      "Total pour Jane Doe : 239\n"
     ]
    }
   ],
   "source": [
    "for (p, achats) in conso.items():\n",
    "     print('Total pour {} : {}'.format(p, sum(achats)))"
   ]
  },
  {
   "cell_type": "code",
   "execution_count": 6,
   "id": "ed540a07",
   "metadata": {},
   "outputs": [],
   "source": [
    "def free(conso, min_achats, min_prix):\n",
    "  gagnants = [ ]             # Personnes qui auront une pizza gratuite\n",
    "  for p in conso.keys():     # On parcourt les consommateurs\n",
    "    achats = conso[p]        # Récupération des achats\n",
    "    total = 0                # Nb d'achats ≥ montant min\n",
    "    for m in achats:         # On parcourt les achats\n",
    "      if m >= min_prix :     # Si montant ≥ montant min\n",
    "        total += 1           # On ajoute +1 \n",
    "    if total >= min_achats:  # Suffisamment d'achats ?\n",
    "      gagnants.append(p)     # Il aura une pizza gratuite\n",
    "  return gagnants            # Retour de la liste des gagnants"
   ]
  },
  {
   "cell_type": "code",
   "execution_count": 8,
   "id": "b08a680f",
   "metadata": {},
   "outputs": [
    {
     "data": {
      "text/plain": [
       "['Jane Doe']"
      ]
     },
     "execution_count": 8,
     "metadata": {},
     "output_type": "execute_result"
    }
   ],
   "source": [
    "min_achats = 5\n",
    "min_prix = 20\n",
    "free(conso, min_achats, min_prix)     # Avec l'exemple 1"
   ]
  },
  {
   "cell_type": "markdown",
   "id": "b5c4315a",
   "metadata": {},
   "source": [
    "## Version plus moderne"
   ]
  },
  {
   "cell_type": "markdown",
   "id": "b10abc42",
   "metadata": {},
   "source": [
    "Nous devons **filtrer** les consommateurs suivant un double critère : Nombre de pizzas achetés et ayant un prix ≥ montant minimum. Rappelons brièvement comment on peut filtrer en Python, JavaScript et APL, par exemple en cherchant quels étudiants ont des notes ≥ 10 :"
   ]
  },
  {
   "cell_type": "code",
   "execution_count": 9,
   "id": "fa9e900f",
   "metadata": {},
   "outputs": [
    {
     "data": {
      "text/plain": [
       "[12, 11, 17, 18]"
      ]
     },
     "execution_count": 9,
     "metadata": {},
     "output_type": "execute_result"
    }
   ],
   "source": [
    "notes = [5, 12, 11, 9, 3, 17, 18, 6]\n",
    "[v for v in notes if v >= 10]"
   ]
  },
  {
   "cell_type": "markdown",
   "id": "cbe9f780",
   "metadata": {},
   "source": [
    "Et pour compter le nombre d'étudiants reçus (c'est-à-dire avec une note ≥ 10 :"
   ]
  },
  {
   "cell_type": "code",
   "execution_count": 10,
   "id": "3b2e2a90",
   "metadata": {},
   "outputs": [
    {
     "data": {
      "text/plain": [
       "4"
      ]
     },
     "execution_count": 10,
     "metadata": {},
     "output_type": "execute_result"
    }
   ],
   "source": [
    "len([v for v in notes if v >= 10])  # Taille du tableau"
   ]
  },
  {
   "cell_type": "code",
   "execution_count": 11,
   "id": "0b7dd3eb",
   "metadata": {},
   "outputs": [
    {
     "data": {
      "text/plain": [
       "4"
      ]
     },
     "execution_count": 11,
     "metadata": {},
     "output_type": "execute_result"
    }
   ],
   "source": [
    "sum([v >= 10 for v in notes])       # Somme de True ou False"
   ]
  },
  {
   "cell_type": "code",
   "execution_count": 12,
   "id": "2876a395",
   "metadata": {},
   "outputs": [
    {
     "data": {
      "text/plain": [
       "4"
      ]
     },
     "execution_count": 12,
     "metadata": {},
     "output_type": "execute_result"
    }
   ],
   "source": [
    "sum(v >= 10 for v in notes)         # Parenthèses inutiles"
   ]
  },
  {
   "cell_type": "markdown",
   "id": "624654ea",
   "metadata": {},
   "source": [
    "On obtient ainsi cette version :"
   ]
  },
  {
   "cell_type": "code",
   "execution_count": 22,
   "id": "fe172b05",
   "metadata": {},
   "outputs": [],
   "source": [
    "def free(conso, min_achats, min_prix):\n",
    " return [ \\\n",
    "  p for p in conso.keys() \\\n",
    "  if sum(m >= min_prix for m in conso[p]) \\\n",
    "  >= min_achats \\\n",
    " ]"
   ]
  },
  {
   "cell_type": "code",
   "execution_count": 23,
   "id": "e3941028",
   "metadata": {},
   "outputs": [
    {
     "data": {
      "text/plain": [
       "['Jane Doe']"
      ]
     },
     "execution_count": 23,
     "metadata": {},
     "output_type": "execute_result"
    }
   ],
   "source": [
    "free(conso, min_achats, min_prix)"
   ]
  }
 ],
 "metadata": {
  "kernelspec": {
   "display_name": "Python 3 (ipykernel)",
   "language": "python",
   "name": "python3"
  },
  "language_info": {
   "codemirror_mode": {
    "name": "ipython",
    "version": 3
   },
   "file_extension": ".py",
   "mimetype": "text/x-python",
   "name": "python",
   "nbconvert_exporter": "python",
   "pygments_lexer": "ipython3",
   "version": "3.9.6"
  }
 },
 "nbformat": 4,
 "nbformat_minor": 5
}
