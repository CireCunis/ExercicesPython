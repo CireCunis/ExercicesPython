{
 "cells": [
  {
   "cell_type": "markdown",
   "id": "e93ba18a",
   "metadata": {},
   "source": [
    "# Quatrième exercice en Python (Niveau Lycée)"
   ]
  },
  {
   "cell_type": "markdown",
   "id": "17fc04a0",
   "metadata": {},
   "source": [
    "<img src=\"https://blog.univ-angers.fr/mathsinfo/files/2022/06/image-3.png\">"
   ]
  },
  {
   "cell_type": "markdown",
   "id": "2b5213ce",
   "metadata": {},
   "source": [
    "*Résumé en français* : On vous donne une suite de nombres ainsi qu'une fonction booléenne. On cherche à récupérer le plus long préfixe (c'est-à-dire en commençant par le terme à gauche) d'éléments vérifiés par cette fonction. Par exemple, si la fonction booléenne est \"être un nombre pair\" (`isEven` en anglais) et que la suite de nombres est `[2,4,6,8,1,2,5,4,3,2]`, le plus long préfixe est `[2,4,6,8]` puisqu'ensuite 1 n'est pas pair."
   ]
  },
  {
   "cell_type": "markdown",
   "id": "1e0fcd26",
   "metadata": {},
   "source": [
    "Cet exercice est plus abstrait que les précédents dans le sens où l'un des paramètres est une fonction."
   ]
  },
  {
   "cell_type": "markdown",
   "id": "c7ba71a9",
   "metadata": {},
   "source": [
    "# Modules existants"
   ]
  },
  {
   "cell_type": "markdown",
   "id": "d49d26e8",
   "metadata": {},
   "source": [
    "On retrouve `takeWhile` dans certaines bibliothèques Python, comme `itertools` :"
   ]
  },
  {
   "cell_type": "code",
   "execution_count": 1,
   "id": "76cffe12",
   "metadata": {},
   "outputs": [],
   "source": [
    "from itertools import takewhile\n",
    "\n",
    "def isEven(n):\n",
    "  return 0 == n % 2\n",
    "\n",
    "def _takeWhile(a, f):\n",
    "  return list(takewhile(f, a))"
   ]
  },
  {
   "cell_type": "code",
   "execution_count": 2,
   "id": "e3977d26",
   "metadata": {},
   "outputs": [
    {
     "data": {
      "text/plain": [
       "[2, 4, 6, 8]"
      ]
     },
     "execution_count": 2,
     "metadata": {},
     "output_type": "execute_result"
    }
   ],
   "source": [
    "_takeWhile([2,4,6,8,1,2,5,4,3,2], isEven)"
   ]
  },
  {
   "cell_type": "markdown",
   "id": "72a22b32",
   "metadata": {},
   "source": [
    "# A quel endroit s'arrêter ?"
   ]
  },
  {
   "cell_type": "markdown",
   "id": "4ac1b900",
   "metadata": {},
   "source": [
    "Une idée est de chercher le **rang** (s'il existe) où la fonction booléenne donnera **faux**. On devra alors garder les valeurs entre la position **0** et **rang - 1**. Pour l'exemple donné, la première valeur impaire est à la 4e position (le premier nombre est à la position 0), on garde donc les nombres entre les positions 0 et 4-1=3."
   ]
  },
  {
   "cell_type": "code",
   "execution_count": 5,
   "id": "e3f01108",
   "metadata": {},
   "outputs": [
    {
     "data": {
      "text/plain": [
       "4"
      ]
     },
     "execution_count": 5,
     "metadata": {},
     "output_type": "execute_result"
    }
   ],
   "source": [
    "next(i for i,v in enumerate([2,4,6,8,1,2,5,4,3,2]) if v%2 != 0)"
   ]
  },
  {
   "cell_type": "markdown",
   "id": "f86560ed",
   "metadata": {},
   "source": [
    "Et qui renvoie un message d'**erreur** lorsque la condition n'est jamais vérifiée :"
   ]
  },
  {
   "cell_type": "code",
   "execution_count": 6,
   "id": "17884b9d",
   "metadata": {},
   "outputs": [
    {
     "ename": "StopIteration",
     "evalue": "",
     "output_type": "error",
     "traceback": [
      "\u001b[0;31m---------------------------------------------------------------------------\u001b[0m",
      "\u001b[0;31mStopIteration\u001b[0m                             Traceback (most recent call last)",
      "Input \u001b[0;32mIn [6]\u001b[0m, in \u001b[0;36m<cell line: 1>\u001b[0;34m()\u001b[0m\n\u001b[0;32m----> 1\u001b[0m \u001b[38;5;28;43mnext\u001b[39;49m\u001b[43m(\u001b[49m\u001b[43mi\u001b[49m\u001b[43m \u001b[49m\u001b[38;5;28;43;01mfor\u001b[39;49;00m\u001b[43m \u001b[49m\u001b[43mi\u001b[49m\u001b[43m,\u001b[49m\u001b[43mv\u001b[49m\u001b[43m \u001b[49m\u001b[38;5;129;43;01min\u001b[39;49;00m\u001b[43m \u001b[49m\u001b[38;5;28;43menumerate\u001b[39;49m\u001b[43m(\u001b[49m\u001b[43m[\u001b[49m\u001b[38;5;241;43m2\u001b[39;49m\u001b[43m,\u001b[49m\u001b[38;5;241;43m4\u001b[39;49m\u001b[43m,\u001b[49m\u001b[38;5;241;43m6\u001b[39;49m\u001b[43m,\u001b[49m\u001b[38;5;241;43m8\u001b[39;49m\u001b[43m]\u001b[49m\u001b[43m)\u001b[49m\u001b[43m \u001b[49m\u001b[38;5;28;43;01mif\u001b[39;49;00m\u001b[43m \u001b[49m\u001b[43mv\u001b[49m\u001b[38;5;241;43m%\u001b[39;49m\u001b[38;5;241;43m2\u001b[39;49m\u001b[43m \u001b[49m\u001b[38;5;241;43m!=\u001b[39;49m\u001b[43m \u001b[49m\u001b[38;5;241;43m0\u001b[39;49m\u001b[43m)\u001b[49m\n",
      "\u001b[0;31mStopIteration\u001b[0m: "
     ]
    }
   ],
   "source": [
    "next(i for i,v in enumerate([2,4,6,8]) if v%2 != 0)"
   ]
  },
  {
   "cell_type": "markdown",
   "id": "479f786d",
   "metadata": {},
   "source": [
    "Pour contourner le problème, on peut utiliser `try` et `except` :"
   ]
  },
  {
   "cell_type": "code",
   "execution_count": 8,
   "id": "26a3fa46",
   "metadata": {},
   "outputs": [],
   "source": [
    "def cherche(a):\n",
    "  try:\n",
    "   return next(i for i,v in enumerate(a) if v%2 != 0)\n",
    "  except:\n",
    "   return -1"
   ]
  },
  {
   "cell_type": "code",
   "execution_count": 9,
   "id": "6402477e",
   "metadata": {},
   "outputs": [
    {
     "data": {
      "text/plain": [
       "4"
      ]
     },
     "execution_count": 9,
     "metadata": {},
     "output_type": "execute_result"
    }
   ],
   "source": [
    "cherche([2,4,6,8,1,2,5,4,3,2])"
   ]
  },
  {
   "cell_type": "code",
   "execution_count": 10,
   "id": "95af7534",
   "metadata": {},
   "outputs": [
    {
     "data": {
      "text/plain": [
       "-1"
      ]
     },
     "execution_count": 10,
     "metadata": {},
     "output_type": "execute_result"
    }
   ],
   "source": [
    "cherche([2,4,6,8])"
   ]
  },
  {
   "cell_type": "markdown",
   "id": "d0ec5f9d",
   "metadata": {},
   "source": [
    "Ce qui donne ce **programme final** :"
   ]
  },
  {
   "cell_type": "code",
   "execution_count": 11,
   "id": "3dc12117",
   "metadata": {},
   "outputs": [],
   "source": [
    "def pair(n): return n % 2 == 0   \n",
    "  \n",
    "def takeWhile(a, f):\n",
    "  try:\n",
    "    fin = next(i for i,v in enumerate(a) if not(f(v)))\n",
    "    return a[:fin]\n",
    "  except:\n",
    "    return a"
   ]
  },
  {
   "cell_type": "code",
   "execution_count": 12,
   "id": "9ae42e85",
   "metadata": {},
   "outputs": [
    {
     "data": {
      "text/plain": [
       "[2, 4, 6, 8]"
      ]
     },
     "execution_count": 12,
     "metadata": {},
     "output_type": "execute_result"
    }
   ],
   "source": [
    "takeWhile([2,4,6,8,1,2,5,4,3,2], pair)"
   ]
  },
  {
   "cell_type": "code",
   "execution_count": 13,
   "id": "8483300c",
   "metadata": {},
   "outputs": [
    {
     "data": {
      "text/plain": [
       "[2, 4, 8, 6]"
      ]
     },
     "execution_count": 13,
     "metadata": {},
     "output_type": "execute_result"
    }
   ],
   "source": [
    "takeWhile([2,4,8,6], pair)"
   ]
  }
 ],
 "metadata": {
  "kernelspec": {
   "display_name": "Python 3 (ipykernel)",
   "language": "python",
   "name": "python3"
  },
  "language_info": {
   "codemirror_mode": {
    "name": "ipython",
    "version": 3
   },
   "file_extension": ".py",
   "mimetype": "text/x-python",
   "name": "python",
   "nbconvert_exporter": "python",
   "pygments_lexer": "ipython3",
   "version": "3.9.6"
  }
 },
 "nbformat": 4,
 "nbformat_minor": 5
}
