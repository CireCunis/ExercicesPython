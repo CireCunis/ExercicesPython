{
 "cells": [
  {
   "cell_type": "markdown",
   "id": "c7f1dee6",
   "metadata": {},
   "source": [
    "# Petits exercices de programmation (niveau Lycée) en Python"
   ]
  },
  {
   "cell_type": "markdown",
   "id": "d2b3758d",
   "metadata": {},
   "source": [
    "## Enoncé"
   ]
  },
  {
   "cell_type": "markdown",
   "id": "b13c3f19",
   "metadata": {},
   "source": [
    "<img src=\"https://blog.univ-angers.fr/mathsinfo/files/2022/06/image.png\">"
   ]
  },
  {
   "cell_type": "markdown",
   "id": "84054098",
   "metadata": {},
   "source": [
    "*Résumé en français* : 2 paramètres entiers vous sont donnés, par exemple 1 et 9, le premier étant toujours inférieur au second (mais ils peuvent être négatifs). Vous devez trouver combien de nombres sont entre les 2 sachant qu’ils ne doivent pas contenir de ‘5’."
   ]
  },
  {
   "cell_type": "markdown",
   "id": "5e8c8684",
   "metadata": {},
   "source": [
    "## Version classique"
   ]
  },
  {
   "cell_type": "code",
   "execution_count": 1,
   "id": "fef154b3",
   "metadata": {},
   "outputs": [],
   "source": [
    "def dont_give_me_five(debut, fin):\n",
    " compteur = 0\n",
    " for v in range(debut, fin+1):\n",
    "  if '5' not in str(v):\n",
    "   compteur += 1\n",
    " return compteur"
   ]
  },
  {
   "cell_type": "code",
   "execution_count": 2,
   "id": "bcceaa70",
   "metadata": {},
   "outputs": [
    {
     "data": {
      "text/plain": [
       "12"
      ]
     },
     "execution_count": 2,
     "metadata": {},
     "output_type": "execute_result"
    }
   ],
   "source": [
    "dont_give_me_five(4, 17)"
   ]
  },
  {
   "cell_type": "markdown",
   "id": "f2836561",
   "metadata": {},
   "source": [
    "Cette version a le mérite d’être simple à comprendre. On initialise un **compteur** à zéro et on parcourt la liste complète des nombres entre **debut** et **fin** (avec un +1 pour inclure la valeur **fin**).\n",
    "Pour savoir si 5 est ou n’est pas dans le nombre, on transforme le nombre **v** en chaine de caractères (**str**) et on teste si le caractère ‘5’ n’est pas dans cette chaine. C’est beaucoup plus facile que de le faire avec des formules mathématiques !\n",
    "Si c’est vrai que ‘5’ n’est pas dans la chaine, le compteur augmente de 1."
   ]
  },
  {
   "cell_type": "markdown",
   "id": "848ed13f",
   "metadata": {},
   "source": [
    "## Autre version"
   ]
  },
  {
   "cell_type": "markdown",
   "id": "f46c4d26",
   "metadata": {},
   "source": [
    "Remarquons qu'en Python `True` vaut 1 et `False`vaut 0, ce qui permet d'effectuer des calculs :"
   ]
  },
  {
   "cell_type": "code",
   "execution_count": 3,
   "id": "0fe15691",
   "metadata": {},
   "outputs": [
    {
     "data": {
      "text/plain": [
       "2"
      ]
     },
     "execution_count": 3,
     "metadata": {},
     "output_type": "execute_result"
    }
   ],
   "source": [
    "True + True"
   ]
  },
  {
   "cell_type": "code",
   "execution_count": 4,
   "id": "b57dc555",
   "metadata": {},
   "outputs": [
    {
     "data": {
      "text/plain": [
       "1"
      ]
     },
     "execution_count": 4,
     "metadata": {},
     "output_type": "execute_result"
    }
   ],
   "source": [
    "True + False"
   ]
  },
  {
   "cell_type": "markdown",
   "id": "72b3053e",
   "metadata": {},
   "source": [
    "D’où cette seconde version :"
   ]
  },
  {
   "cell_type": "code",
   "execution_count": 5,
   "id": "8f6a5932",
   "metadata": {},
   "outputs": [],
   "source": [
    "def dont_give_me_five(debut, fin):\n",
    "    return sum('5' not in str(i) for i in range(debut, fin + 1))"
   ]
  },
  {
   "cell_type": "code",
   "execution_count": 6,
   "id": "bc2f03e8",
   "metadata": {},
   "outputs": [
    {
     "data": {
      "text/plain": [
       "8"
      ]
     },
     "execution_count": 6,
     "metadata": {},
     "output_type": "execute_result"
    }
   ],
   "source": [
    "dont_give_me_five(1, 9)"
   ]
  },
  {
   "cell_type": "code",
   "execution_count": null,
   "id": "2b58ec46",
   "metadata": {},
   "outputs": [],
   "source": []
  }
 ],
 "metadata": {
  "kernelspec": {
   "display_name": "Python 3 (ipykernel)",
   "language": "python",
   "name": "python3"
  },
  "language_info": {
   "codemirror_mode": {
    "name": "ipython",
    "version": 3
   },
   "file_extension": ".py",
   "mimetype": "text/x-python",
   "name": "python",
   "nbconvert_exporter": "python",
   "pygments_lexer": "ipython3",
   "version": "3.9.6"
  }
 },
 "nbformat": 4,
 "nbformat_minor": 5
}
