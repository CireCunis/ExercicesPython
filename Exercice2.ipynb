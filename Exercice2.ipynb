{
 "cells": [
  {
   "cell_type": "markdown",
   "id": "b61c8ae0",
   "metadata": {},
   "source": [
    "# Deuxième exercice Python (Niveau Lycée)"
   ]
  },
  {
   "cell_type": "markdown",
   "id": "00a4ec6f",
   "metadata": {},
   "source": [
    "<img src=\"https://blog.univ-angers.fr/mathsinfo/files/2022/06/image-1.png\">"
   ]
  },
  {
   "cell_type": "markdown",
   "id": "998f16b5",
   "metadata": {},
   "source": [
    "*Résumé en français* : On vous donne 3 nombres différents dans un ordre quelconque. En sortie, donnez le rang du nombre qui est entre les 2 autres. Par exemple avec 2, 3, 1 c'est le chiffre 2 qui est entre 1 et 3, son rang dans 2, 3, 1 est 0."
   ]
  },
  {
   "cell_type": "markdown",
   "id": "4a425a0f",
   "metadata": {},
   "source": [
    "## Partons d'un tri"
   ]
  },
  {
   "cell_type": "markdown",
   "id": "cb788f06",
   "metadata": {},
   "source": [
    "En Python, la fonction `sorted` tri par défaut un tableau numérique par ordre croissant :"
   ]
  },
  {
   "cell_type": "code",
   "execution_count": 1,
   "id": "4e1e14b1",
   "metadata": {},
   "outputs": [
    {
     "data": {
      "text/plain": [
       "[1, 3, 21]"
      ]
     },
     "execution_count": 1,
     "metadata": {},
     "output_type": "execute_result"
    }
   ],
   "source": [
    "sorted([21, 3, 1])"
   ]
  },
  {
   "cell_type": "markdown",
   "id": "518ef431",
   "metadata": {},
   "source": [
    "On peut également utiliser la méthode `sort` :"
   ]
  },
  {
   "cell_type": "code",
   "execution_count": 2,
   "id": "654f1cd2",
   "metadata": {},
   "outputs": [
    {
     "data": {
      "text/plain": [
       "[1, 3, 21]"
      ]
     },
     "execution_count": 2,
     "metadata": {},
     "output_type": "execute_result"
    }
   ],
   "source": [
    "a = [21, 3, 1]\n",
    "a.sort()\n",
    "a"
   ]
  },
  {
   "cell_type": "markdown",
   "id": "9324f829",
   "metadata": {},
   "source": [
    "Voici une version utilisant les tris :"
   ]
  },
  {
   "cell_type": "code",
   "execution_count": 3,
   "id": "4490022d",
   "metadata": {},
   "outputs": [],
   "source": [
    "def milieu(triplet):\n",
    "    return triplet.index(sorted(triplet)[1])"
   ]
  },
  {
   "cell_type": "code",
   "execution_count": 4,
   "id": "125048de",
   "metadata": {},
   "outputs": [
    {
     "data": {
      "text/plain": [
       "0"
      ]
     },
     "execution_count": 4,
     "metadata": {},
     "output_type": "execute_result"
    }
   ],
   "source": [
    "milieu([2, 3, 1])"
   ]
  },
  {
   "cell_type": "code",
   "execution_count": 5,
   "id": "41db2094",
   "metadata": {},
   "outputs": [
    {
     "data": {
      "text/plain": [
       "1"
      ]
     },
     "execution_count": 5,
     "metadata": {},
     "output_type": "execute_result"
    }
   ],
   "source": [
    "milieu([5, 10, 14])"
   ]
  },
  {
   "cell_type": "markdown",
   "id": "b4e7ac7a",
   "metadata": {},
   "source": [
    "## Et si on cherchait un invariant ?"
   ]
  },
  {
   "cell_type": "markdown",
   "id": "afe70a6d",
   "metadata": {},
   "source": [
    "Remarquons que si l'on trouve les **positions** de la plus grande valeur (**max**) et de la plus petite valeur (**min**) du triplet, la position **restante** sera celle que l'on cherche."
   ]
  },
  {
   "cell_type": "markdown",
   "id": "47eaaa79",
   "metadata": {},
   "source": [
    "Mais l'ensemble des positions sera toujours { 0, 1, 2 }. Par exemple si le max est en 2e et le min en 1er, alors le milieu est en position 0. L'invariant intéressant ici est la somme des positions qui vaut toujours 0+1+2=3. Le rang que l'on cherche est donc :\n",
    "\n",
    "`rang_cherché = 3 - rang(max) - rang(min)`"
   ]
  },
  {
   "cell_type": "code",
   "execution_count": 7,
   "id": "4d93b8e5",
   "metadata": {},
   "outputs": [],
   "source": [
    "def milieu(triplet):\n",
    "    return 3 - triplet.index(max(triplet)) \\\n",
    "             - triplet.index(min(triplet))"
   ]
  },
  {
   "cell_type": "code",
   "execution_count": 8,
   "id": "a448c0d9",
   "metadata": {},
   "outputs": [
    {
     "data": {
      "text/plain": [
       "0"
      ]
     },
     "execution_count": 8,
     "metadata": {},
     "output_type": "execute_result"
    }
   ],
   "source": [
    "milieu([2, 3, 1])"
   ]
  }
 ],
 "metadata": {
  "kernelspec": {
   "display_name": "Python 3 (ipykernel)",
   "language": "python",
   "name": "python3"
  },
  "language_info": {
   "codemirror_mode": {
    "name": "ipython",
    "version": 3
   },
   "file_extension": ".py",
   "mimetype": "text/x-python",
   "name": "python",
   "nbconvert_exporter": "python",
   "pygments_lexer": "ipython3",
   "version": "3.9.6"
  }
 },
 "nbformat": 4,
 "nbformat_minor": 5
}
