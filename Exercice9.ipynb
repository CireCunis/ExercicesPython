{
 "cells": [
  {
   "cell_type": "markdown",
   "id": "55bf8f76",
   "metadata": {},
   "source": [
    "# Neuvième exercice en Python (Niveau Lycée)"
   ]
  },
  {
   "cell_type": "markdown",
   "id": "74595666",
   "metadata": {},
   "source": [
    "<img src=\"https://blog.univ-angers.fr/mathsinfo/files/2022/06/image-8.png\">"
   ]
  },
  {
   "cell_type": "markdown",
   "id": "30847ac2",
   "metadata": {},
   "source": [
    "<img src=\"https://blog.univ-angers.fr/mathsinfo/files/2022/06/image-9.png\">"
   ]
  },
  {
   "cell_type": "markdown",
   "id": "0638a4c2",
   "metadata": {},
   "source": [
    "*Résumé en français* : Des lapins naissent et deviennent matures au bout de 1 mois, âge auquel ils pourront se reproduire.\n",
    "Créez une fonction qui détermine le nombre de **paires de lapins** matures après `n` mois en commençant par un **unique** couple de lapins immatures et qui se reproduisent à raison de `b` paires à la fin de chaque mois. Voir le tableau ci-dessus dans le cas de `n` = 5 mois avec un taux de reproduction de `b` = 3 pour bien comprendre le déroulement. Quelques autres exemples :\n",
    "\n",
    "<pre>>> lapins(0, 4)\n",
    "0                     # Après 0 mois, il n'y a pas de paire adultes\n",
    ">> lapins(1, 4)\n",
    "1                     # Après 1 mois, une seule paire d'adultes\n",
    ">>lapins(4, 0)\n",
    "1                     # Lapins stériles (taux = 0), on reste à 1\n",
    ">> lapins(6, 3)       \n",
    "40 \n",
    ">> lapins(8, 12)\n",
    "8425\n",
    ">> lapins(7, 4)\n",
    "181 \n",
    "\n",
    "# (1 0) > (0 1) > (4 1) > (4 5) > (20 9) > (36 29) > (116 65) > 181</pre>"
   ]
  },
  {
   "cell_type": "markdown",
   "id": "7a1ada45",
   "metadata": {},
   "source": [
    "Cet exercice étant assez facile, proposons **différentes versions** :"
   ]
  },
  {
   "cell_type": "markdown",
   "id": "bab884f1",
   "metadata": {},
   "source": [
    "## Une simple boucle"
   ]
  },
  {
   "cell_type": "markdown",
   "id": "b4d90e1f",
   "metadata": {},
   "source": [
    "On part de **0** adulte et d'une paire de lapins **immatures**. **Chaque mois**, le nouveau nombre d'**immatures** est **égal** au nombre d'**adultes qui se reproduisent avec un taux** `b` (c'est-à-dire la multiplication du nombre d'adultes par le coefficient `b`). Et le nouveau nombre d'**adultes** est égal au nombre d'**adultes précédents** + les **immatures précédents** qui deviennent adultes.\n",
    "\n",
    "Il faut faire attention à l'écriture du processus, voici une version **INCORRECTE** :"
   ]
  },
  {
   "cell_type": "code",
   "execution_count": 1,
   "id": "9f140906",
   "metadata": {},
   "outputs": [],
   "source": [
    "def lapins(n, b):\n",
    "    immatures, adultes = 1, 0\n",
    "    for i in range(n):\n",
    "        immatures = b * adultes         # on écrase immatures trop tôt\n",
    "        adultes =  adultes + immatures\n",
    "    return adultes"
   ]
  },
  {
   "cell_type": "markdown",
   "id": "f2080430",
   "metadata": {},
   "source": [
    "En effet, on commence par mettre à jour la variable `immatures` puis on utilise cette valeur à la ligne suivante, or nous avions besoin de la valeur **précédente** de `immatures` et non pas de la valeur actualisée. Une technique classique est d'utiliser une variable **temporaire** :"
   ]
  },
  {
   "cell_type": "code",
   "execution_count": 2,
   "id": "8bc05d80",
   "metadata": {},
   "outputs": [],
   "source": [
    "def lapins(n, b):\n",
    "    immatures, adultes = 1, 0\n",
    "    for i in range(n):\n",
    "        temp = immatures            # On mémorise valeur précédente\n",
    "        immatures = b * adultes\n",
    "        adultes =  adultes + temp   # que l'on utilise ici\n",
    "    return adultes"
   ]
  },
  {
   "cell_type": "markdown",
   "id": "8b742a73",
   "metadata": {},
   "source": [
    "On peut également utiliser cette écriture **CORRECTE** :"
   ]
  },
  {
   "cell_type": "code",
   "execution_count": 3,
   "id": "d807277a",
   "metadata": {},
   "outputs": [],
   "source": [
    "def lapins(n, b):\n",
    "    immatures, adultes = 1, 0\n",
    "    for i in range(n):\n",
    "        immatures, adultes = b * adultes, adultes + immatures\n",
    "    return adultes"
   ]
  },
  {
   "cell_type": "code",
   "execution_count": 4,
   "id": "63136c34",
   "metadata": {},
   "outputs": [
    {
     "data": {
      "text/plain": [
       "8425"
      ]
     },
     "execution_count": 4,
     "metadata": {},
     "output_type": "execute_result"
    }
   ],
   "source": [
    "lapins(8,12)"
   ]
  },
  {
   "cell_type": "code",
   "execution_count": 5,
   "id": "d6284822",
   "metadata": {},
   "outputs": [
    {
     "data": {
      "text/plain": [
       "0"
      ]
     },
     "execution_count": 5,
     "metadata": {},
     "output_type": "execute_result"
    }
   ],
   "source": [
    "lapins(0,4)"
   ]
  },
  {
   "cell_type": "code",
   "execution_count": 6,
   "id": "e3b8f30f",
   "metadata": {},
   "outputs": [
    {
     "data": {
      "text/plain": [
       "1"
      ]
     },
     "execution_count": 6,
     "metadata": {},
     "output_type": "execute_result"
    }
   ],
   "source": [
    "lapins(4,0)"
   ]
  },
  {
   "cell_type": "markdown",
   "id": "1e99f44c",
   "metadata": {},
   "source": [
    "## Version récursive"
   ]
  },
  {
   "cell_type": "markdown",
   "id": "4eef2ea6",
   "metadata": {},
   "source": [
    "Reprenons l'exemple proposé dans l'énoncé avec n = 5 et b = 3. Le nombre de paires d'adultes matures est successivement : 0 → 1 → 1 → 4 → 7 → 19"
   ]
  },
  {
   "cell_type": "markdown",
   "id": "d9d50440",
   "metadata": {},
   "source": [
    "Si on note u la suite donnant le nombre d'adultes au fil des mois, on a u(0) = 0, u(1) = 1 etc."
   ]
  },
  {
   "cell_type": "markdown",
   "id": "16ccdde1",
   "metadata": {},
   "source": [
    "Cette suite peut être définie par une **relation de récurrence** :\n",
    "\n",
    "$$\\left\\{\\begin{matrix}\n",
    "u(0)=0 \\mbox{ et } u(1) = 1\\\\\n",
    "u(n+1) = 3 \\times u(n-1) + u(n)\\\\\n",
    "\\end{matrix}\\right.$$"
   ]
  },
  {
   "cell_type": "markdown",
   "id": "77483e7a",
   "metadata": {},
   "source": [
    "Ce qui signifie que le nombre de paires d'adultes au mois `n+1` est **3 fois** le nombre de paires **d'adultes 2 mois avant** (reproduction) + les **immatures** du **mois précédent** qui deviennent adultes."
   ]
  },
  {
   "cell_type": "markdown",
   "id": "87db5892",
   "metadata": {},
   "source": [
    "Essayez en effet de vous convaincre que 0 → 1 → 1 → 4 → 7 → 19 correspond à :\n",
    "\n",
    "u(2) = 1 = 3 * 0 + 1, u(3) = 4 = 3 * 1 + 1, u(4) = 7 = 3 * 1 + 4, u(5) = 19 = 3 * 4 + 7 🤔"
   ]
  },
  {
   "cell_type": "markdown",
   "id": "d1a878c7",
   "metadata": {},
   "source": [
    "Traduction en Python :"
   ]
  },
  {
   "cell_type": "code",
   "execution_count": 7,
   "id": "c69dfaaa",
   "metadata": {},
   "outputs": [],
   "source": [
    "def lapins(n, b):\n",
    "  if n <= 1: return n\n",
    "  return b * lapins(n - 2, b) + lapins(n - 1, b)"
   ]
  },
  {
   "cell_type": "code",
   "execution_count": 8,
   "id": "0256da90",
   "metadata": {},
   "outputs": [
    {
     "data": {
      "text/plain": [
       "19"
      ]
     },
     "execution_count": 8,
     "metadata": {},
     "output_type": "execute_result"
    }
   ],
   "source": [
    "lapins(5,3)"
   ]
  },
  {
   "cell_type": "code",
   "execution_count": 9,
   "id": "94e028d3",
   "metadata": {},
   "outputs": [
    {
     "data": {
      "text/plain": [
       "8425"
      ]
     },
     "execution_count": 9,
     "metadata": {},
     "output_type": "execute_result"
    }
   ],
   "source": [
    "lapins(8,12)"
   ]
  },
  {
   "cell_type": "markdown",
   "id": "545c307c",
   "metadata": {},
   "source": [
    "## Version matricielle"
   ]
  },
  {
   "cell_type": "markdown",
   "id": "7e5ec90d",
   "metadata": {},
   "source": [
    "Autre vision en utilisant cette fois-ci un **calcul matriciel**. En effet, observons que :\n",
    "\n",
    "$$\\begin{pmatrix}\n",
    "u_{n+1} \\\\\n",
    "u_n\n",
    "\\end{pmatrix} = \\begin{pmatrix}\n",
    "u_n + 3\\times u_{n-1} \\\\\n",
    "u_n\n",
    "\\end{pmatrix}=\n",
    "\\begin{pmatrix}\n",
    "1 &  3\\\\\n",
    "1 & 0 \\\\\n",
    "\\end{pmatrix} \\begin{pmatrix}\n",
    "u_{n} \\\\\n",
    "u_{n-1}\n",
    "\\end{pmatrix}$$"
   ]
  },
  {
   "cell_type": "markdown",
   "id": "4d1d1adf",
   "metadata": {},
   "source": [
    "On peut donc calculer **u(n+1)** et **u(n)** à l'aide des **puissances** d'une unique matrice 2 x 2 :\n",
    "\n",
    "$$\\begin{pmatrix}\n",
    "u_{n+1} \\\\\n",
    "u_n\n",
    "\\end{pmatrix} =\n",
    "\\begin{pmatrix}\n",
    "1 &  3\\\\\n",
    "1 & 0 \\\\\n",
    "\\end{pmatrix}^n \\begin{pmatrix}\n",
    "1 \\\\\n",
    "0\n",
    "\\end{pmatrix}$$"
   ]
  },
  {
   "cell_type": "markdown",
   "id": "ddd3110d",
   "metadata": {},
   "source": [
    "De façon **plus générale**, le nombre de paires d'adultes pour un taux de reproduction `b` peut être calculé par :\n",
    "\n",
    "$$\\begin{pmatrix}\n",
    "u_{n+1} \\\\\n",
    "u_n\n",
    "\\end{pmatrix} =\n",
    "\\begin{pmatrix}\n",
    "1 &  b\\\\\n",
    "1 & 0 \\\\\n",
    "\\end{pmatrix}^n \\begin{pmatrix}\n",
    "1 \\\\\n",
    "0\n",
    "\\end{pmatrix}$$"
   ]
  },
  {
   "cell_type": "markdown",
   "id": "9b46de78",
   "metadata": {},
   "source": [
    "Pour calculer la puissance d'une matrice 2 x 2, nous pouvons créer une fonction de multiplication ou utiliser une bibliothèque comme `numpy` :"
   ]
  },
  {
   "cell_type": "code",
   "execution_count": 10,
   "id": "4662e4ca",
   "metadata": {},
   "outputs": [
    {
     "name": "stdout",
     "output_type": "stream",
     "text": [
      "m^0 = [[1 0]\n",
      " [0 1]]\n",
      "m^1 = [[1 3]\n",
      " [1 0]]\n",
      "m^2 = [[4 3]\n",
      " [1 3]]\n",
      "m^3 = [[ 7 12]\n",
      " [ 4  3]]\n",
      "m^4 = [[19 21]\n",
      " [ 7 12]]\n"
     ]
    }
   ],
   "source": [
    "import numpy as np                 # On importe numpy\n",
    "m = np.array([[1, 3], [1, 0]])     # Création de la matrice m\n",
    "\n",
    "for k in range(5):                 # Calcul de m^0, m^1... m^4\n",
    "  print('m^{} = {}'.format(k, np.linalg.matrix_power(m, k)))"
   ]
  },
  {
   "cell_type": "markdown",
   "id": "0fe3836c",
   "metadata": {},
   "source": [
    "Attention cependant, la bibliothèque `numpy`\n",
    " ne gère pas (par défaut) les entiers arbitrairement grands et peut donner des résultats **FAUX** :"
   ]
  },
  {
   "cell_type": "code",
   "execution_count": 11,
   "id": "d3422456",
   "metadata": {},
   "outputs": [
    {
     "data": {
      "text/plain": [
       "array([[ 827677709047869124, 1078278355240672323],\n",
       "       [ 359426118413557441,  468251590634311683]])"
      ]
     },
     "execution_count": 11,
     "metadata": {},
     "output_type": "execute_result"
    }
   ],
   "source": [
    "np.linalg.matrix_power(m, 50)      # m à la puissance 50 (résultat CORRECT)"
   ]
  },
  {
   "cell_type": "code",
   "execution_count": 12,
   "id": "08fb276e",
   "metadata": {},
   "outputs": [
    {
     "data": {
      "text/plain": [
       "array([[   23110438186405259,  6654818438609454037],\n",
       "       [-3930641878366699193,  3953752316553104452]])"
      ]
     },
     "execution_count": 12,
     "metadata": {},
     "output_type": "execute_result"
    }
   ],
   "source": [
    "np.linalg.matrix_power(m, 70)      # m à la puissance 70 (résultat FAUX)"
   ]
  },
  {
   "cell_type": "markdown",
   "id": "22626349",
   "metadata": {},
   "source": [
    "On peut malgré tout préciser comment les données doivent être stockées (entier, flottant, objet) :"
   ]
  },
  {
   "cell_type": "code",
   "execution_count": 13,
   "id": "30dcab88",
   "metadata": {},
   "outputs": [],
   "source": [
    "import numpy as np\n",
    "\n",
    "m = np.array([[1, 3], [1, 0]], dtype=object)  # en tant qu'objet"
   ]
  },
  {
   "cell_type": "code",
   "execution_count": 14,
   "id": "c02de760",
   "metadata": {},
   "outputs": [
    {
     "data": {
      "text/plain": [
       "array([[14551031556125490725277067, 18956729415189764489429973],\n",
       "       [6318909805063254829809991, 8232121751062235895467076]],\n",
       "      dtype=object)"
      ]
     },
     "execution_count": 14,
     "metadata": {},
     "output_type": "execute_result"
    }
   ],
   "source": [
    "np.linalg.matrix_power(m, 70)"
   ]
  },
  {
   "cell_type": "markdown",
   "id": "e35bfbd0",
   "metadata": {},
   "source": [
    "Programme final :"
   ]
  },
  {
   "cell_type": "code",
   "execution_count": 15,
   "id": "83356099",
   "metadata": {},
   "outputs": [],
   "source": [
    "import numpy as np\n",
    "\n",
    "def lapins(n, b):\n",
    "    m = np.array([[1, b], [1, 0]], dtype=object)\n",
    "    return np.linalg.matrix_power(m, n)[1][0]    # on récupère u(n)"
   ]
  },
  {
   "cell_type": "code",
   "execution_count": 16,
   "id": "3c5a2123",
   "metadata": {},
   "outputs": [
    {
     "data": {
      "text/plain": [
       "8425"
      ]
     },
     "execution_count": 16,
     "metadata": {},
     "output_type": "execute_result"
    }
   ],
   "source": [
    "lapins(8, 12)"
   ]
  },
  {
   "cell_type": "code",
   "execution_count": 17,
   "id": "59ad28fa",
   "metadata": {},
   "outputs": [
    {
     "data": {
      "text/plain": [
       "0"
      ]
     },
     "execution_count": 17,
     "metadata": {},
     "output_type": "execute_result"
    }
   ],
   "source": [
    "lapins(0, 4)"
   ]
  },
  {
   "cell_type": "code",
   "execution_count": 18,
   "id": "3d6ad5a6",
   "metadata": {},
   "outputs": [
    {
     "data": {
      "text/plain": [
       "1"
      ]
     },
     "execution_count": 18,
     "metadata": {},
     "output_type": "execute_result"
    }
   ],
   "source": [
    "lapins(4, 0)"
   ]
  }
 ],
 "metadata": {
  "kernelspec": {
   "display_name": "Python 3 (ipykernel)",
   "language": "python",
   "name": "python3"
  },
  "language_info": {
   "codemirror_mode": {
    "name": "ipython",
    "version": 3
   },
   "file_extension": ".py",
   "mimetype": "text/x-python",
   "name": "python",
   "nbconvert_exporter": "python",
   "pygments_lexer": "ipython3",
   "version": "3.9.6"
  }
 },
 "nbformat": 4,
 "nbformat_minor": 5
}
