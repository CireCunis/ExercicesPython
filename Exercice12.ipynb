{
 "cells": [
  {
   "cell_type": "markdown",
   "id": "51630058",
   "metadata": {},
   "source": [
    "# Douzième exercice en Python (Niveau Lycée)"
   ]
  },
  {
   "cell_type": "markdown",
   "id": "7e80fc5e",
   "metadata": {},
   "source": [
    "<img src=\"https://blog.univ-angers.fr/mathsinfo/files/2022/06/image-18.png\">"
   ]
  },
  {
   "cell_type": "markdown",
   "id": "a4e4bc32",
   "metadata": {},
   "source": [
    "*Résumé en français* : On vous donne une chaine de caractères composée de \"chiffres\" ('0' à '9'). Vous devez écrire une fonction qui renvoie une chaine où chaque chiffre est répété le nombre de fois correspondant à sa valeur. Par exemple avec la chaine \"312\", on doit répéter 3 fois le \"3\", 1 fois le \"1\" et 2 fois le \"2\", ce qui donne la chaine \"333122\"."
   ]
  },
  {
   "cell_type": "markdown",
   "id": "ac8dc6f8",
   "metadata": {},
   "source": [
    "## Version classique"
   ]
  },
  {
   "cell_type": "markdown",
   "id": "7ef4ecda",
   "metadata": {},
   "source": [
    "*Première idée*, utiliser **2 boucles**. La **première** pour **récupérer** un à un les caractères de la chaine et la **seconde** pour **dupliquer** le bon nombre de fois chacun de ces caractères."
   ]
  },
  {
   "cell_type": "code",
   "execution_count": 1,
   "id": "e66b52fb",
   "metadata": {},
   "outputs": [],
   "source": [
    "def explose(s):\n",
    "  sortie = ''                      # initialisation du résultat final\n",
    "  for c in s:                      # on parcourt la chaine\n",
    "    for n in range(int(c)):        # on ajoute le bon nombre de fois...\n",
    "      sortie += c                  # ...le caractère\n",
    "  return sortie                    # retour du résultat"
   ]
  },
  {
   "cell_type": "code",
   "execution_count": 2,
   "id": "59566d0b",
   "metadata": {},
   "outputs": [
    {
     "data": {
      "text/plain": [
       "'333122'"
      ]
     },
     "execution_count": 2,
     "metadata": {},
     "output_type": "execute_result"
    }
   ],
   "source": [
    "explose(\"312\")"
   ]
  },
  {
   "cell_type": "code",
   "execution_count": 3,
   "id": "569f89ae",
   "metadata": {},
   "outputs": [
    {
     "data": {
      "text/plain": [
       "'33322'"
      ]
     },
     "execution_count": 3,
     "metadata": {},
     "output_type": "execute_result"
    }
   ],
   "source": [
    "explose(\"302\")"
   ]
  },
  {
   "cell_type": "code",
   "execution_count": 4,
   "id": "f8a4fbdd",
   "metadata": {},
   "outputs": [
    {
     "data": {
      "text/plain": [
       "'12222666666999999999'"
      ]
     },
     "execution_count": 4,
     "metadata": {},
     "output_type": "execute_result"
    }
   ],
   "source": [
    "explose(\"102269\")"
   ]
  },
  {
   "cell_type": "markdown",
   "id": "2c8c039d",
   "metadata": {},
   "source": [
    "## Une seule boucle + répéter"
   ]
  },
  {
   "cell_type": "markdown",
   "id": "2cae3571",
   "metadata": {},
   "source": [
    "En Python il est simple de répéter un caractère :"
   ]
  },
  {
   "cell_type": "code",
   "execution_count": 5,
   "id": "4586168d",
   "metadata": {},
   "outputs": [
    {
     "data": {
      "text/plain": [
       "'aaaaa'"
      ]
     },
     "execution_count": 5,
     "metadata": {},
     "output_type": "execute_result"
    }
   ],
   "source": [
    "'a' * 5"
   ]
  },
  {
   "cell_type": "markdown",
   "id": "04e4c713",
   "metadata": {},
   "source": [
    "On peut également **répéter** un caractère **0 fois**, dans ce cas on obtient la **chaine vide**. D'où cette **seconde version** :"
   ]
  },
  {
   "cell_type": "code",
   "execution_count": 6,
   "id": "fc98ae35",
   "metadata": {},
   "outputs": [],
   "source": [
    "def explose(s):\n",
    "  sortie = ''\n",
    "  for c in s:\n",
    "    sortie += c * int(c)        # on répète le caractère\n",
    "  return sortie"
   ]
  },
  {
   "cell_type": "markdown",
   "id": "05b7216b",
   "metadata": {},
   "source": [
    "## Autre écriture"
   ]
  },
  {
   "cell_type": "markdown",
   "id": "38a50dfe",
   "metadata": {},
   "source": [
    "Nous devons **transformer** chaque caractère en sa répétition, ce qui donne un tableau de taille celle de la chaine initiale :"
   ]
  },
  {
   "cell_type": "code",
   "execution_count": 7,
   "id": "a847abb6",
   "metadata": {},
   "outputs": [
    {
     "data": {
      "text/plain": [
       "['333', '1', '22']"
      ]
     },
     "execution_count": 7,
     "metadata": {},
     "output_type": "execute_result"
    }
   ],
   "source": [
    "[c * int(c) for c in \"312\"]         # Transformer 3 \"chiffres\""
   ]
  },
  {
   "cell_type": "markdown",
   "id": "2a091544",
   "metadata": {},
   "source": [
    "Il suffit ensuite de joindre les différents éléments, d'où cette troisième version :"
   ]
  },
  {
   "cell_type": "code",
   "execution_count": 8,
   "id": "b5ab4656",
   "metadata": {},
   "outputs": [],
   "source": [
    "def explose(s):\n",
    "  return ''.join(c * int(c) for c in s)"
   ]
  },
  {
   "cell_type": "code",
   "execution_count": 9,
   "id": "8d321b1c",
   "metadata": {},
   "outputs": [
    {
     "data": {
      "text/plain": [
       "'44444444122'"
      ]
     },
     "execution_count": 9,
     "metadata": {},
     "output_type": "execute_result"
    }
   ],
   "source": [
    "explose(\"44012\")"
   ]
  },
  {
   "cell_type": "markdown",
   "id": "6921a88d",
   "metadata": {},
   "source": [
    "## Remplacements et expressions régulières"
   ]
  },
  {
   "cell_type": "markdown",
   "id": "a2dcfb0f",
   "metadata": {},
   "source": [
    "Python a la méthode `replace` pour des remplacements simples :"
   ]
  },
  {
   "cell_type": "code",
   "execution_count": 10,
   "id": "a98747f7",
   "metadata": {},
   "outputs": [
    {
     "data": {
      "text/plain": [
       "'b*nj*ur'"
      ]
     },
     "execution_count": 10,
     "metadata": {},
     "output_type": "execute_result"
    }
   ],
   "source": [
    "'bonjour'.replace('o','*')     # Tous les 'o' sont remplacés"
   ]
  },
  {
   "cell_type": "markdown",
   "id": "946a6dda",
   "metadata": {},
   "source": [
    "D'où l'idée de remplacer chacun des caractères de '0' à '9' par leur duplication :"
   ]
  },
  {
   "cell_type": "code",
   "execution_count": 11,
   "id": "8652645d",
   "metadata": {},
   "outputs": [],
   "source": [
    "def explose(s):\n",
    "    for i in range(10):\n",
    "        s = s.replace(str(i), str(i) * i)\n",
    "    return s"
   ]
  },
  {
   "cell_type": "code",
   "execution_count": 12,
   "id": "171b0828",
   "metadata": {},
   "outputs": [
    {
     "data": {
      "text/plain": [
       "'33314444155555999999999'"
      ]
     },
     "execution_count": 12,
     "metadata": {},
     "output_type": "execute_result"
    }
   ],
   "source": [
    "explose('314159')"
   ]
  },
  {
   "cell_type": "markdown",
   "id": "742c90a3",
   "metadata": {},
   "source": [
    "Pour utiliser des **expressions régulières** (**Regex**), nous devons importer la bibliothèque `re`."
   ]
  },
  {
   "cell_type": "code",
   "execution_count": 13,
   "id": "48359543",
   "metadata": {},
   "outputs": [
    {
     "data": {
      "text/plain": [
       "'*a*b**'"
      ]
     },
     "execution_count": 13,
     "metadata": {},
     "output_type": "execute_result"
    }
   ],
   "source": [
    "import re\n",
    "re.sub(r'\\d','*','3a1b22')     # Remplacer les chiffres par '*'"
   ]
  },
  {
   "cell_type": "markdown",
   "id": "e0b79717",
   "metadata": {},
   "source": [
    "On peut également effectuer des **transformations**, pour cela on :\n",
    "- **recherche** les éléments à modifier à l'aide d'une **expression régulière**\n",
    "- **récupère** la chaine correspondante (`group` ou `[0]`) \n",
    "- effectue la **transformation** (`lambda x : ...`)"
   ]
  },
  {
   "cell_type": "code",
   "execution_count": 15,
   "id": "f1ad989b",
   "metadata": {},
   "outputs": [
    {
     "data": {
      "text/plain": [
       "'OkjAIcOmprIs'"
      ]
     },
     "execution_count": 15,
     "metadata": {},
     "output_type": "execute_result"
    }
   ],
   "source": [
    "# Mettre toutes les voyelles en majuscules\n",
    "\n",
    "re.sub(r'a|e|i|o|u', lambda x: x.group().upper(), 'okjaicompris')"
   ]
  },
  {
   "cell_type": "code",
   "execution_count": 16,
   "id": "a2719a2a",
   "metadata": {},
   "outputs": [
    {
     "data": {
      "text/plain": [
       "'OkjAIcOmprIs'"
      ]
     },
     "execution_count": 16,
     "metadata": {},
     "output_type": "execute_result"
    }
   ],
   "source": [
    "# Ecriture équivalente en utilisant [0]\n",
    "\n",
    "re.sub(r'a|e|i|o|u', lambda x: x[0].upper(), 'okjaicompris')"
   ]
  },
  {
   "cell_type": "code",
   "execution_count": 17,
   "id": "1a9ecf36",
   "metadata": {},
   "outputs": [
    {
     "data": {
      "text/plain": [
       "'5967'"
      ]
     },
     "execution_count": 17,
     "metadata": {},
     "output_type": "execute_result"
    }
   ],
   "source": [
    "# Transformer chaque chiffre en 9 - chiffre :\n",
    "\n",
    "re.sub(r'.',lambda x: str(9 - int(x[0])), '4032')"
   ]
  },
  {
   "cell_type": "markdown",
   "id": "f239e352",
   "metadata": {},
   "source": [
    "Ce qui nous donne cette version finale :"
   ]
  },
  {
   "cell_type": "code",
   "execution_count": 18,
   "id": "3977580a",
   "metadata": {},
   "outputs": [],
   "source": [
    "import re\n",
    "\n",
    "def explose(s):\n",
    "  return re.sub(r'.',lambda v: v[0] * int(v[0]), s)"
   ]
  }
 ],
 "metadata": {
  "kernelspec": {
   "display_name": "Python 3 (ipykernel)",
   "language": "python",
   "name": "python3"
  },
  "language_info": {
   "codemirror_mode": {
    "name": "ipython",
    "version": 3
   },
   "file_extension": ".py",
   "mimetype": "text/x-python",
   "name": "python",
   "nbconvert_exporter": "python",
   "pygments_lexer": "ipython3",
   "version": "3.9.6"
  }
 },
 "nbformat": 4,
 "nbformat_minor": 5
}
